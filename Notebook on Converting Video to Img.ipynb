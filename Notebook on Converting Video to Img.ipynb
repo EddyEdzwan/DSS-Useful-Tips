{
  "metadata": {
    "kernelspec": {
      "name": "python3",
      "display_name": "Python 3",
      "language": "python"
    },
    "creator": "admin",
    "createdOn": 1668763087655,
    "tags": [],
    "customFields": {},
    "hide_input": false,
    "language_info": {
      "name": "python",
      "version": "3.7.13",
      "mimetype": "text/x-python",
      "codemirror_mode": {
        "name": "ipython",
        "version": 3
      },
      "pygments_lexer": "ipython3",
      "nbconvert_exporter": "python",
      "file_extension": ".py"
    },
    "modifiedBy": "admin"
  },
  "nbformat": 4,
  "nbformat_minor": 1,
  "cells": [
    {
      "execution_count": 0,
      "cell_type": "code",
      "metadata": {},
      "source": [
        "# -------------------------------------------------------------------------------- NOTEBOOK-CELL: CODE\n# Import necessary libraries\n# -*- coding: utf-8 -*-\nimport dataiku\nimport pandas as pd, numpy as np\nfrom dataiku import pandasutils as pdu\nimport cv2\nimport os\n\n# -------------------------------------------------------------------------------- NOTEBOOK-CELL: CODE\n# Read recipe inputs\nvid_files_s3 \u003d dataiku.Folder(\"R0VYPLS0\")\nvid_files_fs \u003d dataiku.Folder(\"Go6vQdUp\")\n\n# -------------------------------------------------------------------------------- NOTEBOOK-CELL: CODE\n# Write recipe outputs\nvid_fps_s3 \u003d dataiku.Folder(\"l11wPapI\")\n\n# -------------------------------------------------------------------------------- NOTEBOOK-CELL: CODE\n# Define helper function to create frames from video files\ndef getFrame(filename, sec):\n    vidcap.set(cv2.CAP_PROP_POS_MSEC,sec*1000)\n    hasFrames,image \u003d vidcap.read()\n    if hasFrames:\n        cv2.imwrite(f\"image{str(count)}.jpg\", image) # save frame as JPG file\n        vid_fps_s3.upload_file(f\"{filename}/image{str(count)}.jpg\", f\"image{str(count)}.jpg\")\n        os.remove(f\"image{str(count)}.jpg\")\n    return hasFrames\n\n# -------------------------------------------------------------------------------- NOTEBOOK-CELL: CODE\n# Loop through each video file in path to create frames for video\nfor mp4_filename in vid_files_s3.list_paths_in_partition():\n    with vid_files_s3.get_download_stream(mp4_filename) as stream:\n        # Upload to local folder\n        vid_files_fs.upload_stream(mp4_filename, stream)\n\n        # Create opencv object\n        vidcap \u003d cv2.VideoCapture(os.path.join(vid_files_fs.get_path(), mp4_filename[1:]))\n\n        # Initialise settings to create frames on video\n        sec \u003d 0\n        frameRate \u003d 5 #//it will capture image in each 5 second\n        count\u003d1\n        filename \u003d mp4_filename.split(\".\")[0][1:]\n        success \u003d getFrame(filename, sec)\n        while success:\n            count \u003d count + 1\n            sec \u003d sec + frameRate\n            sec \u003d round(sec, 2)\n            success \u003d getFrame(filename, sec)\n\n        vidcap.release()\n\n        vid_files_fs.clear()"
      ],
      "outputs": []
    }
  ]
}