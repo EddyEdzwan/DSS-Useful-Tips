{
  "metadata": {
    "kernelspec": {
      "name": "python3",
      "display_name": "Python 3",
      "language": "python"
    },
    "creator": "admin",
    "createdOn": 1664437310688,
    "tags": [],
    "customFields": {},
    "hide_input": false,
    "language_info": {
      "name": "python",
      "version": "3.7.13",
      "mimetype": "text/x-python",
      "codemirror_mode": {
        "name": "ipython",
        "version": 3
      },
      "pygments_lexer": "ipython3",
      "nbconvert_exporter": "python",
      "file_extension": ".py"
    },
    "modifiedBy": "admin"
  },
  "nbformat": 4,
  "nbformat_minor": 1,
  "cells": [
    {
      "cell_type": "markdown",
      "metadata": {},
      "source": [
        "# Duplicating statistical test cards programmatically"
      ]
    },
    {
      "cell_type": "markdown",
      "metadata": {},
      "source": [
        "This notebook is designed to introduce you to the functions and methods available within DSS to help duplicate statistical cards in an existing worksheet. The narrow use-case for this is when (note: just an example) you may want to conduct the same statistical test for multiple variables without having to create the individual cards for each of these tests through the UI.\n\nHere, the recommendation is to create the first card on the UI prior to performing the steps below. This allows for the card settings (a python dictionary) to be created and referenced, enabling us to change the values within to meet our needs.\n\nThe documentation to the Python APIs available for the statistical worksheets and cards in DSS can be found [here](https://doc.dataiku.com/dss/latest/python-api/statistics.html#statistics-worksheets)"
      ]
    },
    {
      "cell_type": "markdown",
      "metadata": {},
      "source": [
        "# 1. Importing libraries"
      ]
    },
    {
      "execution_count": 1,
      "cell_type": "code",
      "metadata": {},
      "source": [
        "import dataiku\nfrom dataiku import pandasutils as pdu\nimport pandas as pd\nfrom itertools import combinations"
      ],
      "outputs": []
    },
    {
      "cell_type": "markdown",
      "metadata": {},
      "source": [
        "# 2. Establishing connection to DSS Instance"
      ]
    },
    {
      "execution_count": 2,
      "cell_type": "code",
      "metadata": {},
      "source": [
        "# from within DSS\nclient \u003d dataiku.api_client()\n\n# # from outside DSS\n# host \u003d \"http://localhost:11200\"\n# apiKey \u003d \"BCtZV0kLIxHAWCPZTtZM8vgbj2Yzst9F\"\n# client \u003d dataikuapi.DSSClient(host, apiKey)"
      ],
      "outputs": []
    },
    {
      "cell_type": "markdown",
      "metadata": {},
      "source": [
        "# 3. Retrieving Project, Statistical Worksheet \u0026 Card"
      ]
    },
    {
      "execution_count": 3,
      "cell_type": "code",
      "metadata": {},
      "source": [
        "# Get project in DSS\nproject \u003d client.get_project(\"CCFRAUDAVDCORESTART\") #replace with your project key"
      ],
      "outputs": []
    },
    {
      "execution_count": 8,
      "cell_type": "code",
      "metadata": {},
      "source": [
        "# Get the dataset which has the statistical worksheet \u0026 card created\ndataset \u003d project.get_dataset(\"transactions_joined_prepared\") #replace with the dataset name\n\n# Get the statistical worksheet \u0026 its settings\nstats_worksheet \u003d dataset.get_statistics_worksheet(\"c5E2Tv0415\") #replace with your statistic worksheet id (found in URL)\nws \u003d stats_worksheet.get_settings()\n\n# Get the first card in the worksheet\ncard \u003d ws.list_cards()[0]\n\n# # Display card settings (if required)\n# card.get_raw()"
      ],
      "outputs": []
    },
    {
      "cell_type": "markdown",
      "metadata": {},
      "source": [
        "# 4. Duplicating the Statistical Card"
      ]
    },
    {
      "execution_count": 9,
      "cell_type": "code",
      "metadata": {
        "code_folding": []
      },
      "source": [
        "# Loading data to create list combinations for conducting chi-squared test on\n# TO DO: Replace with the list that you would want to conduct statistical tests for\ndataset_to_load \u003d dataiku.Dataset(\"transactions_joined_prepared\")\ndf \u003d dataset_to_load.get_dataframe()\ncat_cols \u003d df.select_dtypes(include\u003d\u0027object\u0027).columns\nunique_combinations \u003d combinations(cat_cols, 2)\n\n# For each combination, create a chi-squared test card on the same worksheet\nfor seq, (x_col, y_col) in enumerate(unique_combinations):\n    new_card_dict \u003d {}\n    # Create the same chi-squared test card settings, while giving a new_id (required)\n    # and updating the variables to use\n    for key, value in card.get_raw().items():\n        if key \u003d\u003d \u0027id\u0027:\n            new_card_dict[key] \u003d value + str(seq+1)\n            continue\n        if key \u003d\u003d \u0027xColumn\u0027:\n            new_card_dict[key] \u003d value\n            new_card_dict[key][\u0027name\u0027] \u003d x_col\n            continue\n        if key \u003d\u003d \u0027yColumn\u0027:\n            new_card_dict[key] \u003d value\n            new_card_dict[key][\u0027name\u0027] \u003d y_col\n            continue\n        new_card_dict[key] \u003d value\n        \n    # Add card to worksheet\n    ws.add_card(new_card_dict)\n    \n    # Save the worksheet settings\n    ws.save()\n    \n    # Stop after creating 5th card (for demo purposes, delete to create for all combination)\n    if seq\u003d\u003d4:\n        break\n    \n# # Run worksheet to compute calculation (if required)\n# stats_worksheet.run_worksheet()"
      ],
      "outputs": []
    }
  ]
}